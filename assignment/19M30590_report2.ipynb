{
 "cells": [
  {
   "cell_type": "markdown",
   "metadata": {},
   "source": [
    "# Machine Learning: Intermediate report\n",
    "\n",
    "*Write your name and your student ID below.*\n",
    "\n",
    "+ Kohei Kawaguchi (19M30590)"
   ]
  },
  {
   "cell_type": "markdown",
   "metadata": {},
   "source": [
    "Prepare an environment for running Python codes on Jupyter notebook. The most easiest way is to use [Google Colaboratory](https://colab.research.google.com/).\n",
    "\n",
    "Write codes for the following three problems, and submit the notebook file (`.ipynb`) on OCW. *We do not accept a report in other formats (e.g., Word, PDF, HTML)*. Write a code at the specified cell in the notebook. One can add more cells if necessary.\n",
    "\n",
    "These are the links to the sample codes used in the lecture:\n",
    "\n",
    "+ [Binary classification](https://github.com/chokkan/deeplearningclass/blob/master/mlp_binary.ipynb)\n",
    "+ [MNIST](https://github.com/chokkan/deeplearningclass/blob/master/mnist.ipynb)\n",
    "\n",
    "*Please accept that your report may be shared among students who take this course.*"
   ]
  },
  {
   "cell_type": "markdown",
   "metadata": {},
   "source": [
    "## 1. Multi-class classification on MNIST\n",
    "\n",
    "Train a model on the training set of MNIST, and report the performance of the model on the test set in the following evaluation measures:\n",
    "\n",
    "+ Accuracy\n",
    "+ Precision, recall, and F1 scores on each category (digit)\n",
    "+ Macro-averaged precision, recall, and F1 scores (i.e., the averages of the above measures for all categories)\n",
    "\n",
    "One can use the same code shown in the lecture. Write a code here and show the output."
   ]
  },
  {
   "cell_type": "code",
   "execution_count": null,
   "metadata": {
    "collapsed": true
   },
   "outputs": [],
   "source": []
  },
  {
   "cell_type": "markdown",
   "metadata": {},
   "source": [
    "## 2. Confusion matrix\n",
    "\n",
    "Show a confusion matrix of the predictions of the model on the test set. This is an example of a confusion matrix.\n",
    "\n",
    "![example](example-confusion-matrix.png)\n",
    "\n",
    "Write a code here and show the confusion matrix."
   ]
  },
  {
   "cell_type": "code",
   "execution_count": null,
   "metadata": {
    "collapsed": true
   },
   "outputs": [],
   "source": []
  },
  {
   "cell_type": "markdown",
   "metadata": {},
   "source": [
    "## 3. Top-3 easy and confusing examples\n",
    "\n",
    "Show the top three easy and three confusing, respectively, images where the model recognized their digits with strong confidences. More specifically, let $y_n$ and $\\hat{y}_n$ the true and predicted, respectively, digits of the image $x_n$. We want to find three images with high $P(\\hat{y}_n | x_n)$ when $y_n = \\hat{y}_n$ (easy examples) $y_n \\neq \\hat{y}_n$ (confusing examples).\n",
    "\n",
    "Please show $y_n$, $P(y_n | x_n)$, $\\hat{y}_n$, and $P(\\hat{y}_n | x_n)$. This is an example of an output for an image (you need this kind of outputs for top-three easy and top-three confusing images).\n",
    "\n",
    "![example](example-confusing-sample.png)\n",
    "\n",
    "Write a code here and show the output."
   ]
  },
  {
   "cell_type": "code",
   "execution_count": null,
   "metadata": {
    "collapsed": true
   },
   "outputs": [],
   "source": []
  }
 ],
 "metadata": {
  "kernelspec": {
   "display_name": "Python 3",
   "language": "python",
   "name": "python3"
  },
  "language_info": {
   "codemirror_mode": {
    "name": "ipython",
    "version": 3
   },
   "file_extension": ".py",
   "mimetype": "text/x-python",
   "name": "python",
   "nbconvert_exporter": "python",
   "pygments_lexer": "ipython3",
   "version": "3.5.2"
  }
 },
 "nbformat": 4,
 "nbformat_minor": 2
}

import keras
from keras.datasets import mnist
from keras.models import Sequential
from keras.layers import Dense,Dropout,Flatten,Conv2D,MaxPool2D
from keras.optimizers import RMSprop
from sklearn.metrics import confusion_matrix
from sklearn.metrics import accuracy_score
from sklearn.metrics import precision_score
from sklearn.metrics import recall_score
from sklearn.metrics import f1_score
from PIL import Image
import os

from sklearn.metrics import classification_report
import pandas as pd
import pprint

# MNISTデータを読込む
(x_train, y_train), (x_test, y_test) = mnist.load_data()

# MNISTデータを加工する
x_train  = x_train.reshape(-1, 28,28,1)
x_test   = x_test.reshape(-1,28,28,1)
x_train  = x_train.astype('float32')
x_test   = x_test.astype('float32')
x_train /= 255
x_test  /= 255
y_train  = keras.utils.to_categorical(y_train, 10)
y_test   = keras.utils.to_categorical(y_test, 10)

# モデルの構築
model = Sequential()

model.add(Conv2D(filters = 32,kernel_size = (5,5),padding="Same",activation = "relu",input_shape=(28,28,1)))
model.add(MaxPool2D(pool_size=(2,2)))
model.add(Dropout(0.4127))

model.add(Conv2D(filters = 64,kernel_size = (3,3),padding="Same",activation = "relu"))
model.add(Conv2D(filters = 64,kernel_size = (3,3),padding="Same",activation = "relu"))
model.add(MaxPool2D(pool_size=(2,2), strides = (2,2)))
model.add(Dropout(0.4844))

model.add(Flatten())
model.add(Dense(128,activation="relu"))
model.add(Dropout(0.0261))
model.add(Dense(10,activation="softmax"))

optimizer = RMSprop(lr=0.001,
                    rho=0.9,
                    epsilon=1e-08,
                    decay=0.0)

model.compile(optimizer = optimizer,
              loss = "categorical_crossentropy",
              metrics=["accuracy"])

# 学習
epochs = 20
batch_size = 128
history = model.fit(x_train, y_train, batch_size=batch_size, epochs=epochs, verbose=1, validation_data=(x_test, y_test))

# 検証
score = model.evaluate(x_test, y_test, verbose=1)
print()
print('Test loss:', score[0])
print('Test accuracy:', score[1])
print()
predict_classes = model.predict_classes(x_test[1:-1], batch_size=32)
true_classes = np.argmax(y_test[1:-1],1)
print(confusion_matrix(true_classes, predict_classes))
print()
print(classification_report(true_classes, predict_classes))


os.mkdir("NGimg")
categories = [ "0","1", "2" , "3", "4" , "5", "6" , "7", "8" , "9"]
pre = model.predict(x_test)
for i,v in enumerate(pre):
    pre_ans = v.argmax()
    ans = y_test[i].argmax()
    dat = x_test[i]
    if ans == pre_ans: continue
    fname =  "NGimg/"+ str(i) + "-" + categories[pre_ans] + \
        "-ne-" + categories[ans] + ".png"
    dat *= 255
    img = Image.fromarray(dat.reshape((28,28))).convert("RGB")
    img.save(fname)
